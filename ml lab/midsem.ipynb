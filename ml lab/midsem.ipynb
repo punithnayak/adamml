{
 "cells": [
  {
   "cell_type": "code",
   "execution_count": 17,
   "metadata": {},
   "outputs": [],
   "source": [
    "import pandas as pd\n",
    "import numpy as np"
   ]
  },
  {
   "cell_type": "code",
   "execution_count": 18,
   "metadata": {},
   "outputs": [
    {
     "data": {
      "text/html": [
       "<div>\n",
       "<style scoped>\n",
       "    .dataframe tbody tr th:only-of-type {\n",
       "        vertical-align: middle;\n",
       "    }\n",
       "\n",
       "    .dataframe tbody tr th {\n",
       "        vertical-align: top;\n",
       "    }\n",
       "\n",
       "    .dataframe thead th {\n",
       "        text-align: right;\n",
       "    }\n",
       "</style>\n",
       "<table border=\"1\" class=\"dataframe\">\n",
       "  <thead>\n",
       "    <tr style=\"text-align: right;\">\n",
       "      <th></th>\n",
       "      <th>id</th>\n",
       "      <th>name</th>\n",
       "      <th>Over 170</th>\n",
       "      <th>eye</th>\n",
       "      <th>length</th>\n",
       "      <th>gender</th>\n",
       "    </tr>\n",
       "  </thead>\n",
       "  <tbody>\n",
       "    <tr>\n",
       "      <th>0</th>\n",
       "      <td>1</td>\n",
       "      <td>drew</td>\n",
       "      <td>no</td>\n",
       "      <td>blue</td>\n",
       "      <td>short</td>\n",
       "      <td>male</td>\n",
       "    </tr>\n",
       "    <tr>\n",
       "      <th>1</th>\n",
       "      <td>2</td>\n",
       "      <td>claudia</td>\n",
       "      <td>yes</td>\n",
       "      <td>brown</td>\n",
       "      <td>long</td>\n",
       "      <td>female</td>\n",
       "    </tr>\n",
       "    <tr>\n",
       "      <th>2</th>\n",
       "      <td>3</td>\n",
       "      <td>drew</td>\n",
       "      <td>no</td>\n",
       "      <td>blue</td>\n",
       "      <td>long</td>\n",
       "      <td>female</td>\n",
       "    </tr>\n",
       "    <tr>\n",
       "      <th>3</th>\n",
       "      <td>4</td>\n",
       "      <td>drew</td>\n",
       "      <td>no</td>\n",
       "      <td>blue</td>\n",
       "      <td>long</td>\n",
       "      <td>female</td>\n",
       "    </tr>\n",
       "    <tr>\n",
       "      <th>4</th>\n",
       "      <td>5</td>\n",
       "      <td>alberto</td>\n",
       "      <td>yes</td>\n",
       "      <td>brown</td>\n",
       "      <td>short</td>\n",
       "      <td>male</td>\n",
       "    </tr>\n",
       "    <tr>\n",
       "      <th>5</th>\n",
       "      <td>6</td>\n",
       "      <td>karin</td>\n",
       "      <td>no</td>\n",
       "      <td>blue</td>\n",
       "      <td>long</td>\n",
       "      <td>female</td>\n",
       "    </tr>\n",
       "    <tr>\n",
       "      <th>6</th>\n",
       "      <td>7</td>\n",
       "      <td>nina</td>\n",
       "      <td>yes</td>\n",
       "      <td>brown</td>\n",
       "      <td>short</td>\n",
       "      <td>female</td>\n",
       "    </tr>\n",
       "    <tr>\n",
       "      <th>7</th>\n",
       "      <td>8</td>\n",
       "      <td>sergio</td>\n",
       "      <td>yes</td>\n",
       "      <td>blue</td>\n",
       "      <td>long</td>\n",
       "      <td>male</td>\n",
       "    </tr>\n",
       "  </tbody>\n",
       "</table>\n",
       "</div>"
      ],
      "text/plain": [
       "   id     name Over 170    eye length  gender\n",
       "0   1     drew       no   blue  short    male\n",
       "1   2  claudia      yes  brown   long  female\n",
       "2   3     drew       no   blue   long  female\n",
       "3   4     drew       no   blue   long  female\n",
       "4   5  alberto      yes  brown  short    male\n",
       "5   6    karin       no   blue   long  female\n",
       "6   7     nina      yes  brown  short  female\n",
       "7   8   sergio      yes   blue   long    male"
      ]
     },
     "execution_count": 18,
     "metadata": {},
     "output_type": "execute_result"
    }
   ],
   "source": [
    "data=pd.read_csv('data.csv')\n",
    "name=data['name']\n",
    "eye=data['eye']\n",
    "length=data['length']\n",
    "gender=data['gender']\n",
    "over170=data['Over 170']\n",
    "data"
   ]
  },
  {
   "cell_type": "code",
   "execution_count": 19,
   "metadata": {},
   "outputs": [
    {
     "data": {
      "text/plain": [
       "8"
      ]
     },
     "execution_count": 19,
     "metadata": {},
     "output_type": "execute_result"
    }
   ],
   "source": [
    "total=len(data)\n",
    "total"
   ]
  },
  {
   "cell_type": "code",
   "execution_count": 43,
   "metadata": {},
   "outputs": [],
   "source": [
    "no_m=0\n",
    "no_f=0\n",
    "for g in gender:\n",
    "    if g=='male':\n",
    "        no_m+=1\n",
    "    else:\n",
    "        no_f+=1"
   ]
  },
  {
   "cell_type": "code",
   "execution_count": 44,
   "metadata": {},
   "outputs": [],
   "source": [
    "prob_m=no_m/total\n",
    "prob_f=no_f/total"
   ]
  },
  {
   "cell_type": "code",
   "execution_count": 45,
   "metadata": {},
   "outputs": [
    {
     "name": "stdout",
     "output_type": "stream",
     "text": [
      "prob of male: 0.375 \n",
      "prob of female: 0.625\n"
     ]
    }
   ],
   "source": [
    "print(\"prob of male:\",prob_m,\"\\nprob of female:\",prob_f)"
   ]
  },
  {
   "cell_type": "code",
   "execution_count": 46,
   "metadata": {},
   "outputs": [
    {
     "name": "stdout",
     "output_type": "stream",
     "text": [
      "prob of drew/male: 0.3333333333333333 \n",
      "prob of drew/female: 0.4\n"
     ]
    }
   ],
   "source": [
    "pmdrew=0\n",
    "pfdrew=0\n",
    "for row in zip(data['gender'],data['name']):\n",
    "    if row[0]=='male':\n",
    "        if row[1]=='drew':\n",
    "            pmdrew+=1\n",
    "    if row[0]=='female':\n",
    "        if row[1]=='drew':\n",
    "            pfdrew+=1   \n",
    "pmdrew/=no_m\n",
    "pfdrew/=no_f\n",
    "print(\"prob of drew/male:\",pmdrew,\"\\nprob of drew/female:\",pfdrew)            "
   ]
  },
  {
   "cell_type": "code",
   "execution_count": 47,
   "metadata": {},
   "outputs": [
    {
     "name": "stdout",
     "output_type": "stream",
     "text": [
      "prob of blue/male: 0.6666666666666666 \n",
      "prob of blue/female: 0.6\n"
     ]
    }
   ],
   "source": [
    "pmb=0\n",
    "pfb=0\n",
    "for row in zip(data['gender'],data['eye']):\n",
    "    if row[0]=='male':\n",
    "        if row[1]=='blue':\n",
    "            pmb+=1\n",
    "    if row[0]=='female':\n",
    "        if row[1]=='blue':\n",
    "            pfb+=1   \n",
    "pmb/=no_m\n",
    "pfb/=no_f\n",
    "print(\"prob of blue/male:\",pmb,\"\\nprob of blue/female:\",pfb)  "
   ]
  },
  {
   "cell_type": "code",
   "execution_count": 48,
   "metadata": {},
   "outputs": [
    {
     "name": "stdout",
     "output_type": "stream",
     "text": [
      "prob of long/male: 0.3333333333333333 \n",
      "prob of long/female: 0.8\n"
     ]
    }
   ],
   "source": [
    "pmlong=0\n",
    "pflong=0\n",
    "for row in zip(data['gender'],data['length']):\n",
    "    if row[0]=='male':\n",
    "        if row[1]=='long':\n",
    "            pmlong+=1\n",
    "    if row[0]=='female':\n",
    "        if row[1]=='long':\n",
    "            pflong+=1   \n",
    "pmlong/=no_m\n",
    "pflong/=no_f\n",
    "print(\"prob of long/male:\",pmlong,\"\\nprob of long/female:\",pflong)  "
   ]
  },
  {
   "cell_type": "code",
   "execution_count": 49,
   "metadata": {},
   "outputs": [
    {
     "name": "stdout",
     "output_type": "stream",
     "text": [
      "prob of over/male: 0.6666666666666666 \n",
      "prob of over/female: 0.4\n"
     ]
    }
   ],
   "source": [
    "pmover=0\n",
    "pfover=0\n",
    "for row in zip(data['gender'],data['Over 170']):\n",
    "    if row[0]=='male':\n",
    "        if row[1]=='yes':\n",
    "            pmover+=1\n",
    "    if row[0]=='female':\n",
    "        if row[1]=='yes':\n",
    "            pfover+=1   \n",
    "pmover/=no_m\n",
    "pfover/=no_f\n",
    "print(\"prob of over/male:\",pmover,\"\\nprob of over/female:\",pfover)  "
   ]
  },
  {
   "cell_type": "code",
   "execution_count": 54,
   "metadata": {},
   "outputs": [
    {
     "name": "stdout",
     "output_type": "stream",
     "text": [
      "prob of male given x: 0.018518518518518517 \n",
      "prob of female given x: 0.048\n"
     ]
    }
   ],
   "source": [
    "pcm=pmdrew*pmb*pmlong*pmover*prob_m\n",
    "pcf=pfdrew*pfb*pflong*pfover*prob_f\n",
    "print(\"prob of male given x:\",pcm,\"\\nprob of female given x:\",pcf) "
   ]
  },
  {
   "cell_type": "code",
   "execution_count": 55,
   "metadata": {},
   "outputs": [
    {
     "name": "stdout",
     "output_type": "stream",
     "text": [
      "classification:female\n"
     ]
    }
   ],
   "source": [
    "if (pcm>pcf):\n",
    "    print('classification:male')\n",
    "else:\n",
    "    print('classification:female')"
   ]
  },
  {
   "cell_type": "code",
   "execution_count": null,
   "metadata": {},
   "outputs": [],
   "source": []
  }
 ],
 "metadata": {
  "kernelspec": {
   "display_name": "Python 3",
   "language": "python",
   "name": "python3"
  },
  "language_info": {
   "codemirror_mode": {
    "name": "ipython",
    "version": 3
   },
   "file_extension": ".py",
   "mimetype": "text/x-python",
   "name": "python",
   "nbconvert_exporter": "python",
   "pygments_lexer": "ipython3",
   "version": "3.7.0"
  }
 },
 "nbformat": 4,
 "nbformat_minor": 2
}
