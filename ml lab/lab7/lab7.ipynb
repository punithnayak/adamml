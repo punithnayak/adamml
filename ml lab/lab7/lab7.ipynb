{
 "cells": [
  {
   "cell_type": "markdown",
   "metadata": {},
   "source": [
    "1. Create the following data set for two independent variable (X1,X2) and one dependent variable (Y) inCSV. Apply the Logistic Regression to perform the following.\n",
    "a. Calculate the coefficients (B0, B1 and B2).\n",
    "b. Apply the sigmoid function to get the prediction and calculate error.\n",
    "c. From the predicted values calculate the accuracy.\n",
    "d. List the model parameters along with error for every instance of the training\n",
    "data. e. Plot the graph of B1 v/s error and B2 v/s error.\n",
    "f. Use scikit learn model to repeat the above steps and compare the results."
   ]
  },
  {
   "cell_type": "code",
   "execution_count": 189,
   "metadata": {},
   "outputs": [],
   "source": [
    "import pandas as pd \n",
    "import numpy as np\n",
    "import matplotlib.pyplot as plt\n",
    "from sklearn.linear_model import LogisticRegression\n",
    "from sklearn.model_selection import train_test_split\n",
    "from sklearn.metrics import accuracy_score"
   ]
  },
  {
   "cell_type": "code",
   "execution_count": 190,
   "metadata": {},
   "outputs": [],
   "source": [
    "data=pd.read_csv('data.csv')"
   ]
  },
  {
   "cell_type": "code",
   "execution_count": 191,
   "metadata": {},
   "outputs": [],
   "source": [
    "X1=data['X1']\n",
    "X2=data['X2']\n",
    "Y=data['Y']"
   ]
  },
  {
   "cell_type": "code",
   "execution_count": 192,
   "metadata": {},
   "outputs": [],
   "source": [
    "def sigmoid(z):\n",
    "    return 1/(1+np.exp(-z))"
   ]
  },
  {
   "cell_type": "code",
   "execution_count": 193,
   "metadata": {},
   "outputs": [],
   "source": [
    "b0=0\n",
    "b1=0\n",
    "b2=0\n",
    "lrate=0.05"
   ]
  },
  {
   "cell_type": "code",
   "execution_count": 194,
   "metadata": {},
   "outputs": [],
   "source": [
    "predictions = []\n",
    "errors = []\n",
    "b2_values=[]\n",
    "b1_values=[]\n",
    "for y,x1,x2 in zip(Y,X1,X2):\n",
    "    z=b0+b1*x1+b2*x2\n",
    "    prediction=sigmoid(z)\n",
    "    error=y-prediction\n",
    "    b2_values.append(b2)\n",
    "    b1_values.append(b1)\n",
    "    predictions.append(prediction)\n",
    "    errors.append(error)\n",
    "    b0=b0+lrate*error*prediction*(1-prediction)\n",
    "    b1=b1+lrate*error*prediction*(1-prediction)*x1\n",
    "    b2=b2+lrate*error*prediction*(1-prediction)*x2\n",
    "    "
   ]
  },
  {
   "cell_type": "code",
   "execution_count": 195,
   "metadata": {},
   "outputs": [],
   "source": [
    "predictions = []\n",
    "for y,x1,x2 in zip(Y,X1,X2):\n",
    "    prediction = sigmoid(b0 + b1 * x1 + b2 * x2)\n",
    "    predictions.append(prediction)\n"
   ]
  },
  {
   "cell_type": "code",
   "execution_count": 196,
   "metadata": {},
   "outputs": [
    {
     "name": "stdout",
     "output_type": "stream",
     "text": [
      "Accuracy: 0.5\n"
     ]
    }
   ],
   "source": [
    "predictions = [1 if prediction >= 0.5 else 0 for prediction in predictions]\n",
    "accuracy_score(Y, predictions)\n",
    "print(\"Accuracy:\", accuracy)"
   ]
  },
  {
   "cell_type": "code",
   "execution_count": 197,
   "metadata": {},
   "outputs": [
    {
     "data": {
      "image/png": "[encoded data removed]",
      "text/plain": [
       "<Figure size 432x288 with 1 Axes>"
      ]
     },
     "metadata": {
      "needs_background": "light"
     },
     "output_type": "display_data"
    },
    {
     "data": {
      "image/png": "[encoded data removed]",
      "text/plain": [
       "<Figure size 432x288 with 1 Axes>"
      ]
     },
     "metadata": {
      "needs_background": "light"
     },
     "output_type": "display_data"
    }
   ],
   "source": [
    "plt.figure()\n",
    "plt.plot(b1_values, errors)\n",
    "plt.xlabel(\"B1\")\n",
    "plt.ylabel(\"Error\")\n",
    "plt.title(\"B1 vs. Error\")\n",
    "\n",
    "\n",
    "plt.figure()\n",
    "plt.plot(b2_values, errors)\n",
    "plt.xlabel(\"B2\")\n",
    "plt.ylabel(\"Error\")\n",
    "plt.title(\"B2 vs. Error\")\n",
    "plt.show()"
   ]
  },
  {
   "cell_type": "code",
   "execution_count": 198,
   "metadata": {},
   "outputs": [
    {
     "name": "stdout",
     "output_type": "stream",
     "text": [
      "Accuracy: 1.0\n"
     ]
    }
   ],
   "source": [
    "\n",
    "from sklearn.linear_model import LogisticRegression\n",
    "from sklearn.metrics import accuracy_score\n",
    "import matplotlib.pyplot as plt\n",
    "data = pd.read_csv('data.csv')\n",
    "\n",
    "X = data[['X1', 'X2']]\n",
    "Y = data['Y']\n",
    "\n",
    "model = LogisticRegression()\n",
    "\n",
    "model.fit(X, Y)\n",
    "\n",
    "B0 = model.intercept_[0]\n",
    "B1, B2 = model.coef_[0]\n",
    "\n",
    "predictions = model.predict(X)\n",
    "\n",
    "accuracy = accuracy_score(Y, predictions)\n",
    "print(\"Accuracy:\", accuracy)\n",
    "\n"
   ]
  },
  {
   "cell_type": "markdown",
   "metadata": {},
   "source": [
    "2. Use above data set for one independent variable (X=X1) and one dependent variable (Y) in CSV.\n",
    "Applying Logistic Regression, explore the relationship between independent and dependent variables.\n",
    "a. Calculate the coefficients (B0, and B1).\n",
    "b. Apply the sigmoid function to get the prediction and calculate error.\n",
    "c. From the predicted values calculate the accuracy.\n",
    "d. List the model parameters along with error for every instance of the training data.\n",
    "e. Plot the graph of B1 v/s error.\n",
    "f. Visualize the following binary cross entropy function for logistic regression using the above training data\n",
    "Plot y=1 and y=0 cases separately, and then plot the combined graph by considering X in X-axis and cost in\n",
    "Y-axis.\n",
    "g. Use scikit learn model to repeat the above steps and compare the results."
   ]
  },
  {
   "cell_type": "code",
   "execution_count": 199,
   "metadata": {},
   "outputs": [],
   "source": [
    "b0=0\n",
    "b1=0\n",
    "lrate=0.05\n",
    "predictions = []\n",
    "errors = []\n",
    "b1_values=[]\n",
    "for y,x1,x2 in zip(Y,X1,X2):\n",
    "    z=b0+b1*x1\n",
    "    prediction=sigmoid(z)\n",
    "    error=y-prediction\n",
    "    b1_values.append(b1)\n",
    "    predictions.append(prediction)\n",
    "    errors.append(error)\n",
    "    b0=b0+lrate*error*prediction*(1-prediction)\n",
    "    b1=b1+lrate*error*prediction*(1-prediction)*x1"
   ]
  },
  {
   "cell_type": "code",
   "execution_count": 200,
   "metadata": {},
   "outputs": [
    {
     "name": "stdout",
     "output_type": "stream",
     "text": [
      "Accuracy: 0.5\n"
     ]
    }
   ],
   "source": [
    "predictions = []\n",
    "for y,x1,x2 in zip(Y,X1,X2):\n",
    "    prediction = sigmoid(b0 + b1 * x1 )\n",
    "    predictions.append(prediction)\n",
    "\n",
    "predictions = [1 if prediction >= 0.5 else 0 for prediction in predictions]\n",
    "accuracy = accuracy_score(Y, predictions)\n",
    "print(\"Accuracy:\", accuracy)"
   ]
  },
  {
   "cell_type": "code",
   "execution_count": 201,
   "metadata": {},
   "outputs": [
    {
     "data": {
      "text/plain": [
       "Text(0.5,1,'B1 vs. Error')"
      ]
     },
     "execution_count": 201,
     "metadata": {},
     "output_type": "execute_result"
    },
    {
     "data": {
      "image/png": "[encoded data removed]",
      "text/plain": [
       "<Figure size 432x288 with 1 Axes>"
      ]
     },
     "metadata": {
      "needs_background": "light"
     },
     "output_type": "display_data"
    }
   ],
   "source": [
    "plt.figure()\n",
    "plt.plot(b1_values, errors)\n",
    "plt.xlabel(\"B1\")\n",
    "plt.ylabel(\"Error\")\n",
    "plt.title(\"B1 vs. Error\")"
   ]
  },
  {
   "cell_type": "markdown",
   "metadata": {},
   "source": [
    "3. Use the above data set for two independent variable (X1,X2) and one dependent variable (Y) in CSV.\n",
    "Apply the Logistic Regression with SGD to perform the following.\n",
    "a. Calculate the coefficients (B0, B1 and B2) and arrive at different values of B0, B1, B2, and error for 50\n",
    "iterations of 5 epochs.\n",
    "b. Apply the sigmoid function to get the prediction and calculate error.\n",
    "c. From the predicted values calculate the accuracy.\n",
    "d. Plot the graph of epoch (X-axis) v/s Accuracy (Y-axis).\n",
    "f. Use scikit learn model to repeat the above steps and compare the results."
   ]
  },
  {
   "cell_type": "code",
   "execution_count": 202,
   "metadata": {},
   "outputs": [
    {
     "data": {
      "text/plain": [
       "0    0\n",
       "1    0\n",
       "2    0\n",
       "3    0\n",
       "4    0\n",
       "5    1\n",
       "6    1\n",
       "7    1\n",
       "8    1\n",
       "9    1\n",
       "Name: Y, dtype: int64"
      ]
     },
     "execution_count": 202,
     "metadata": {},
     "output_type": "execute_result"
    }
   ],
   "source": [
    "b0=0\n",
    "b1=0\n",
    "b2=0\n",
    "lrate=0.1\n",
    "Y"
   ]
  },
  {
   "cell_type": "code",
   "execution_count": 203,
   "metadata": {},
   "outputs": [],
   "source": [
    "accuracy_values=[]\n",
    "epoc=np.arange(5)\n",
    "for epocs in epoc:\n",
    "    for y,x1,x2 in zip(Y,X1,X2):\n",
    "        z=b0+b1*x1+b2*x2\n",
    "        prediction=sigmoid(z)\n",
    "        error=y-prediction\n",
    "        b0=b0+lrate*error*prediction*(1-prediction)\n",
    "        b1=b1+lrate*error*prediction*(1-prediction)*x1\n",
    "        b2=b2+lrate*error*prediction*(1-prediction)*x2\n",
    "    predictions = []\n",
    "    for y,x1,x2 in zip(Y,X1,X2):\n",
    "        prediction = sigmoid(b0 + b1 * x1 )\n",
    "        predictions.append(prediction)    \n",
    "    predictions =[1 if prediction >= 0.5 else 0 for prediction in predictions]\n",
    "    \n",
    "    accuracy = accuracy_score(Y, predictions)\n",
    "    accuracy_values.append(accuracy)"
   ]
  },
  {
   "cell_type": "code",
   "execution_count": 204,
   "metadata": {},
   "outputs": [
    {
     "data": {
      "image/png": "[encoded data removed]",
      "text/plain": [
       "<Figure size 432x288 with 1 Axes>"
      ]
     },
     "metadata": {
      "needs_background": "light"
     },
     "output_type": "display_data"
    }
   ],
   "source": [
    "plt.figure()\n",
    "plt.plot(epoc,accuracy_values)\n",
    "plt.ylabel(\"accuracy\")\n",
    "plt.xlabel(\"Epoc\")\n",
    "plt.title(\"accuracy vs. Epoc\")\n",
    "plt.show()"
   ]
  },
  {
   "cell_type": "code",
   "execution_count": null,
   "metadata": {},
   "outputs": [],
   "source": []
  },
  {
   "cell_type": "code",
   "execution_count": null,
   "metadata": {},
   "outputs": [],
   "source": []
  }
 ],
 "metadata": {
  "kernelspec": {
   "display_name": "Python 3 (ipykernel)",
   "language": "python",
   "name": "python3"
  },
  "language_info": {
   "codemirror_mode": {
    "name": "ipython",
    "version": 3
   },
   "file_extension": ".py",
   "mimetype": "text/x-python",
   "name": "python",
   "nbconvert_exporter": "python",
   "pygments_lexer": "ipython3",
   "version": "3.8.10"
  }
 },
 "nbformat": 4,
 "nbformat_minor": 4
}
