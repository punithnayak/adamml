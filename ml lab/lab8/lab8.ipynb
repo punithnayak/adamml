{
 "cells": [
  {
   "cell_type": "code",
   "execution_count": 33,
   "metadata": {},
   "outputs": [
    {
     "name": "stdout",
     "output_type": "stream",
     "text": [
      "Posterior Probability P(A|B): 0.4500\n"
     ]
    }
   ],
   "source": [
    "# Define the prior probability P(A), likelihood P(B|A), and evidence P(B)\n",
    "prior_probability = 0.01 # P(A) - Prior probability of event A\n",
    "likelihood = 0.9 # P(B|A) - Likelihood of observing event B given A\n",
    "evidence = 0.02 # P(B) - Total probability of observing event B\n",
    "# Calculate the posterior probability P(A|B) using Bayes' theorem\n",
    "posterior_probability = (prior_probability * likelihood) / evidence\n",
    "# Print the result\n",
    "print(f\"Posterior Probability P(A|B): {posterior_probability:.4f}\")"
   ]
  },
  {
   "cell_type": "code",
   "execution_count": 34,
   "metadata": {},
   "outputs": [
    {
     "data": {
      "text/plain": [
       "0.425"
      ]
     },
     "execution_count": 34,
     "metadata": {},
     "output_type": "execute_result"
    }
   ],
   "source": [
    "#define function for Bayes' theorem\n",
    "def bayesTheorem(pA, pB, pBA):\n",
    "    return pA * pBA / pB\n",
    "#define probabilities\n",
    "pRain = 0.2\n",
    "pCloudy = 0.4\n",
    "pCloudyRain = 0.85\n",
    "#use function to calculate conditional probability\n",
    "bayesTheorem(pRain, pCloudy, pCloudyRain)"
   ]
  },
  {
   "cell_type": "code",
   "execution_count": 35,
   "metadata": {},
   "outputs": [],
   "source": [
    "from sklearn.feature_extraction.text import CountVectorizer\n",
    "from sklearn.naive_bayes import MultinomialNB\n",
    "from sklearn.metrics import accuracy_score, classification_report\n",
    "from sklearn.model_selection import train_test_split"
   ]
  },
  {
   "cell_type": "code",
   "execution_count": 36,
   "metadata": {},
   "outputs": [],
   "source": [
    "# Sample data\n",
    "texts = [\"This is a positive review.\", \"Negative sentiment detected.\", \"A very positive experience.\", \"I didn't like this at all.\"]\n",
    "# Corresponding labels (1 for positive, 0 for negative)\n",
    "labels = [1, 0, 1, 0]\n",
    "# Split the data into a training set and a test set\n",
    "X_train, X_test, y_train, y_test = train_test_split(texts, labels, test_size=0.2, random_state=42)"
   ]
  },
  {
   "cell_type": "code",
   "execution_count": 37,
   "metadata": {},
   "outputs": [],
   "source": [
    "vectorizer = CountVectorizer()\n",
    "X_train_vec = vectorizer.fit_transform(X_train)\n",
    "X_test_vec = vectorizer.transform(X_test)\n",
    "\n",
    "\n",
    "clf = MultinomialNB()\n",
    "clf.fit(X_train_vec, y_train)\n",
    "\n",
    "y_pred = clf.predict(X_test_vec)"
   ]
  },
  {
   "cell_type": "code",
   "execution_count": 38,
   "metadata": {},
   "outputs": [
    {
     "name": "stdout",
     "output_type": "stream",
     "text": [
      "Accuracy: 0.0\n",
      "             precision    recall  f1-score   support\n",
      "\n",
      "          0       0.00      0.00      0.00         1\n",
      "          1       0.00      0.00      0.00         0\n",
      "\n",
      "avg / total       0.00      0.00      0.00         1\n",
      "\n"
     ]
    },
    {
     "name": "stderr",
     "output_type": "stream",
     "text": [
      "/home/student/anaconda3/lib/python3.7/site-packages/sklearn/metrics/classification.py:1135: UndefinedMetricWarning: Precision and F-score are ill-defined and being set to 0.0 in labels with no predicted samples.\n",
      "  'precision', 'predicted', average, warn_for)\n",
      "/home/student/anaconda3/lib/python3.7/site-packages/sklearn/metrics/classification.py:1137: UndefinedMetricWarning: Recall and F-score are ill-defined and being set to 0.0 in labels with no true samples.\n",
      "  'recall', 'true', average, warn_for)\n"
     ]
    }
   ],
   "source": [
    "accuracy = accuracy_score(y_test, y_pred)\n",
    "report = classification_report(y_test, y_pred)\n",
    "print(f\"Accuracy: {accuracy}\") \n",
    "print(report)"
   ]
  },
  {
   "cell_type": "markdown",
   "metadata": {},
   "source": [
    "1. Implement in python of the following problems using Bayes Theorem.\n",
    "a) Of the students in the college, 60% of the students reside in the hostel and 40% of the students are day\n",
    "scholars. Previous year results report that 30% of all students who stay in the hostel scored A Grade and 20%\n",
    "of day scholars scored A grade. At the end of the year, one student is chosen at random and found that he/she\n",
    "has an A grade. What is the probability that the student is a hosteler?\n",
    "b) Suppose you're testing for a rare disease, and you have the following information:\n",
    " The disease has a prevalence of 0.01 (1% of the population has the disease).\n",
    " The test is not perfect:\n",
    " The test correctly identifies the disease (true positive) 99% of the time (sensitivity).\n",
    " The test incorrectly indicates the disease (false positive) 2% of the time (1 - specificity).\n",
    "Calculate the probability of having the disease given a positive test result using Bayes' theorem."
   ]
  },
  {
   "cell_type": "code",
   "execution_count": 39,
   "metadata": {},
   "outputs": [
    {
     "name": "stdout",
     "output_type": "stream",
     "text": [
      "The probability that the student is a hosteler given they scored an A grade is: 0.6923076923076923\n"
     ]
    }
   ],
   "source": [
    "pH=.6\n",
    "pD=.4\n",
    "pA_H=.3\n",
    "pA_D=.2\n",
    "pA=pH*pA_H+pD*pA_D\n",
    "pH_A=pA_H*pH/pA\n",
    "print(\"The probability that the student is a hosteler given they scored an A grade is:\", pH_A)"
   ]
  },
  {
   "cell_type": "code",
   "execution_count": 40,
   "metadata": {},
   "outputs": [
    {
     "name": "stdout",
     "output_type": "stream",
     "text": [
      "The probability of having the disease given a positive test result is: 0.33108108108108103\n"
     ]
    }
   ],
   "source": [
    "P_D = 0.01  \n",
    "P_D_prime = 1 - P_D  \n",
    "P_T_positive_given_D = 0.98 \n",
    "P_T_positive_given_D_prime = 0.02\n",
    "\n",
    "P_T_positive = (P_T_positive_given_D * P_D) + (P_T_positive_given_D_prime * P_D_prime)\n",
    "\n",
    "P_D_given_T_positive = (P_T_positive_given_D * P_D) / P_T_positive\n",
    "\n",
    "print(\"The probability of having the disease given a positive test result is:\", P_D_given_T_positive)\n"
   ]
  },
  {
   "cell_type": "code",
   "execution_count": 41,
   "metadata": {},
   "outputs": [],
   "source": [
    "import pandas as pd\n",
    "\n",
    "data = {\n",
    "    'Outlook': ['Rainy', 'Sunny', 'Overcast', 'Overcast', 'Sunny', 'Rainy', 'Sunny', 'Overcast', 'Rainy', 'Sunny', 'Sunny', 'Rainy', 'Overcast', 'Overcast'],\n",
    "    'Play': ['Yes', 'Yes', 'Yes', 'Yes', 'No', 'Yes', 'Yes', 'Yes', 'No', 'No', 'Yes', 'No', 'Yes', 'Yes']\n",
    "}\n",
    "\n",
    "df = pd.DataFrame(data)\n",
    "\n",
    "df.to_csv('weather.csv', index=False)"
   ]
  },
  {
   "cell_type": "markdown",
   "metadata": {},
   "source": [
    "Write a program to implement the naïve Bayesian classifier without using scikit-learn library for the\n",
    "following sample training data set stored as a .CSV file. Calculate the accuracy, precision, and recall for your\n",
    "train/test data set. To classify ‘If the weather is sunny, then the Player should play or not’?"
   ]
  },
  {
   "cell_type": "code",
   "execution_count": 45,
   "metadata": {},
   "outputs": [
    {
     "name": "stdout",
     "output_type": "stream",
     "text": [
      "The player should play on a sunny day.\n"
     ]
    }
   ],
   "source": [
    "import pandas as pd\n",
    "\n",
    "\n",
    "data = pd.read_csv('weather.csv')\n",
    "\n",
    "# Map 'Yes' to 1 and 'No' to 0 in the 'Play' column\n",
    "data['Play'] = data['Play'].map({'Yes': 1, 'No': 0})\n",
    "\n",
    "# Split the data into features (Outlook) and target (Play)\n",
    "X = data['Outlook']\n",
    "y = data['Play']\n",
    "\n",
    "# Split the data into training and testing sets (80% train, 20% test)\n",
    "split_ratio = 0.8\n",
    "split_index = int(len(X) * split_ratio)\n",
    "X_train, y_train = X[:split_index], y[:split_index]\n",
    "X_test, y_test = X[split_index:], y[split_index:]\n",
    "\n",
    "# Create dictionaries to store probabilities for each class\n",
    "prob_play_yes = {}\n",
    "prob_play_no = {}\n",
    "\n",
    "# Calculate prior probabilities\n",
    "total_samples = len(y_train)\n",
    "prior_play_yes = sum(y_train) / total_samples\n",
    "prior_play_no = 1 - prior_play_yes\n",
    "\n",
    "# Calculate conditional probabilities for 'Play = Yes'\n",
    "for outlook in X_train[y_train == 1]:\n",
    "    if outlook in prob_play_yes:\n",
    "        prob_play_yes[outlook] += 1\n",
    "    else:\n",
    "        prob_play_yes[outlook] = 1\n",
    "\n",
    "# Calculate conditional probabilities for 'Play = No'\n",
    "for outlook in X_train[y_train == 0]:\n",
    "    if outlook in prob_play_no:\n",
    "        prob_play_no[outlook] += 1\n",
    "    else:\n",
    "        prob_play_no[outlook] = 1\n",
    "\n",
    "# Calculate probabilities for 'Play = Yes' and 'Play = No'\n",
    "total_play_yes = sum(prob_play_yes.values())\n",
    "total_play_no = sum(prob_play_no.values())\n",
    "\n",
    "# Calculate the accuracy, precision, and recall on the test set\n",
    "true_positives = 0\n",
    "false_positives = 0\n",
    "false_negatives = 0\n",
    "for outlook, actual in zip(X_test, y_test):\n",
    "    if outlook in prob_play_yes:\n",
    "        prob_yes = (prob_play_yes[outlook] / total_play_yes) * prior_play_yes\n",
    "    else:\n",
    "        prob_yes = 0\n",
    "\n",
    "    if outlook in prob_play_no:\n",
    "        prob_no = (prob_play_no[outlook] / total_play_no) * prior_play_no\n",
    "    else:\n",
    "        prob_no = 0\n",
    "\n",
    "    predicted = 1 if prob_yes > prob_no else 0\n",
    "\n",
    "    if predicted == 1 and actual == 1:\n",
    "        true_positives += 1\n",
    "    elif predicted == 1 and actual == 0:\n",
    "        false_positives += 1\n",
    "    elif predicted == 0 and actual == 1:\n",
    "        false_negatives += 1\n",
    "\n",
    "sunny_outlook = 'Sunny'\n",
    "if sunny_outlook in prob_play_yes and sunny_outlook in prob_play_no:\n",
    "    prob_yes = (prob_play_yes[sunny_outlook] / total_play_yes) * prior_play_yes\n",
    "    prob_no = (prob_play_no[sunny_outlook] / total_play_no) * prior_play_no\n",
    "    if prob_yes > prob_no:\n",
    "        print(\"The player should play on a sunny day.\")\n",
    "    else:\n",
    "        print(\"The player should not play on a sunny day.\")\n",
    "else:\n",
    "    print(\"Not enough information to make a decision for a sunny day.\")\n"
   ]
  },
  {
   "cell_type": "markdown",
   "metadata": {},
   "source": [
    "Write a program to implement the naïve Bayesian classifier for a sample training data set stored as a\n",
    "English.CSV file. Calculate the accuracy, precision, and recall for your train/test data set."
   ]
  },
  {
   "cell_type": "code",
   "execution_count": 46,
   "metadata": {},
   "outputs": [],
   "source": [
    "training_data = {\n",
    "    'text document':['I love this sandwhich', 'this is an amazing place','I feel very good about these beers', 'this is my best work','what an awesom view', 'I do not like this restaurent','I am tired of this stuff', 'I cant deal with this','he is my sworn enemy', 'my boss is horible', 'this is an awesom place', 'I do not like the taste of this juice', 'I love to dance', 'I am sick and tired of this place','what a great holiday', 'this is a bad locality to stay', 'we will have good fun tomorrow', 'I went to my enemy\\'s home today'],\n",
    "    'label': ['pos','pos','pos','pos','pos','neg','neg','neg','neg','neg','pos','neg','pos','neg','pos','neg','pos','neg']\n",
    "}\n",
    "\n",
    "df = pd.DataFrame(training_data)\n",
    "df.to_csv('centement.csv')"
   ]
  },
  {
   "cell_type": "code",
   "execution_count": 47,
   "metadata": {},
   "outputs": [
    {
     "name": "stdout",
     "output_type": "stream",
     "text": [
      "Accuracy: 1.0\n",
      "Precision: 1.0\n",
      "Recall: 1.0\n"
     ]
    }
   ],
   "source": [
    "import pandas as pd\n",
    "from sklearn.model_selection import train_test_split\n",
    "from sklearn.feature_extraction.text import CountVectorizer\n",
    "from sklearn.naive_bayes import MultinomialNB\n",
    "from sklearn.metrics import accuracy_score, precision_score, recall_score\n",
    "\n",
    "# Load the dataset from the CSV file\n",
    "df = pd.read_csv('centement.csv')\n",
    "\n",
    "# Split the data into training and testing sets\n",
    "X_train, X_test, y_train, y_test = train_test_split(df['text document'], df['label'], test_size=0.2, random_state=42)\n",
    "\n",
    "# Create a CountVectorizer to convert text data into numerical features\n",
    "vectorizer = CountVectorizer()\n",
    "X_train_vectorized = vectorizer.fit_transform(X_train)\n",
    "X_test_vectorized = vectorizer.transform(X_test)\n",
    "\n",
    "# Create a Multinomial Naïve Bayes classifier\n",
    "classifier = MultinomialNB()\n",
    "classifier.fit(X_train_vectorized, y_train)\n",
    "\n",
    "# Make predictions on the test set\n",
    "y_pred = classifier.predict(X_test_vectorized)\n",
    "\n",
    "# Calculate accuracy, precision, and recall\n",
    "accuracy = accuracy_score(y_test, y_pred)\n",
    "precision = precision_score(y_test, y_pred, pos_label='pos')\n",
    "recall = recall_score(y_test, y_pred, pos_label='pos')\n",
    "\n",
    "# Print the results\n",
    "print(\"Accuracy:\", accuracy)\n",
    "print(\"Precision:\", precision)\n",
    "print(\"Recall:\", recall)"
   ]
  },
  {
   "cell_type": "code",
   "execution_count": null,
   "metadata": {},
   "outputs": [],
   "source": []
  },
  {
   "cell_type": "code",
   "execution_count": null,
   "metadata": {},
   "outputs": [],
   "source": []
  }
 ],
 "metadata": {
  "kernelspec": {
   "display_name": "Python 3",
   "language": "python",
   "name": "python3"
  },
  "language_info": {
   "codemirror_mode": {
    "name": "ipython",
    "version": 3
   },
   "file_extension": ".py",
   "mimetype": "text/x-python",
   "name": "python",
   "nbconvert_exporter": "python",
   "pygments_lexer": "ipython3",
   "version": "3.7.0"
  }
 },
 "nbformat": 4,
 "nbformat_minor": 2
}
